{
 "cells": [
  {
   "cell_type": "markdown",
   "metadata": {},
   "source": [
    "# Wege & Zielpersonen"
   ]
  },
  {
   "cell_type": "markdown",
   "metadata": {},
   "source": [
    "## 1. Import"
   ]
  },
  {
   "cell_type": "markdown",
   "metadata": {},
   "source": [
    "### 1.1 Bib"
   ]
  },
  {
   "cell_type": "code",
   "execution_count": 88,
   "metadata": {},
   "outputs": [],
   "source": [
    "#import pandas as pd\n",
    "import numpy as np\n",
    "import pandas as pd\n",
    "\n"
   ]
  },
  {
   "cell_type": "markdown",
   "metadata": {},
   "source": [
    "### 1.2 Data"
   ]
  },
  {
   "cell_type": "code",
   "execution_count": 89,
   "metadata": {},
   "outputs": [],
   "source": [
    "wege = pd.read_csv('Data/wege.csv', sep=';', encoding='latin1')\n",
    "zielpersonen = pd.read_csv('Data/zielpersonen.csv', sep=';', encoding='latin1')\n",
    "\n"
   ]
  },
  {
   "cell_type": "code",
   "execution_count": 90,
   "metadata": {},
   "outputs": [
    {
     "data": {
      "text/html": [
       "<div>\n",
       "<style scoped>\n",
       "    .dataframe tbody tr th:only-of-type {\n",
       "        vertical-align: middle;\n",
       "    }\n",
       "\n",
       "    .dataframe tbody tr th {\n",
       "        vertical-align: top;\n",
       "    }\n",
       "\n",
       "    .dataframe thead th {\n",
       "        text-align: right;\n",
       "    }\n",
       "</style>\n",
       "<table border=\"1\" class=\"dataframe\">\n",
       "  <thead>\n",
       "    <tr style=\"text-align: right;\">\n",
       "      <th></th>\n",
       "      <th>HHNR</th>\n",
       "      <th>WP</th>\n",
       "      <th>AUSNR</th>\n",
       "      <th>WEGNR</th>\n",
       "      <th>DMOD</th>\n",
       "      <th>f51100</th>\n",
       "      <th>f51400</th>\n",
       "      <th>f51100time</th>\n",
       "      <th>f51400time</th>\n",
       "      <th>pseudo</th>\n",
       "      <th>...</th>\n",
       "      <th>w_luftlin</th>\n",
       "      <th>w_rdist</th>\n",
       "      <th>wmittel1</th>\n",
       "      <th>wmittel1a</th>\n",
       "      <th>wmittel2</th>\n",
       "      <th>wmittel2a</th>\n",
       "      <th>wzweck1</th>\n",
       "      <th>wzweck2</th>\n",
       "      <th>wzweck3</th>\n",
       "      <th>w_dist_obj2</th>\n",
       "    </tr>\n",
       "  </thead>\n",
       "  <tbody>\n",
       "    <tr>\n",
       "      <th>0</th>\n",
       "      <td>110001</td>\n",
       "      <td>1.606924</td>\n",
       "      <td>1</td>\n",
       "      <td>1</td>\n",
       "      <td>2</td>\n",
       "      <td>555</td>\n",
       "      <td>565</td>\n",
       "      <td>9:15:00</td>\n",
       "      <td>9:25:00</td>\n",
       "      <td>1</td>\n",
       "      <td>...</td>\n",
       "      <td>0.333127</td>\n",
       "      <td>0.413</td>\n",
       "      <td>8</td>\n",
       "      <td>2</td>\n",
       "      <td>8</td>\n",
       "      <td>2</td>\n",
       "      <td>5.0</td>\n",
       "      <td>1</td>\n",
       "      <td>5</td>\n",
       "      <td>0.333127</td>\n",
       "    </tr>\n",
       "    <tr>\n",
       "      <th>1</th>\n",
       "      <td>110001</td>\n",
       "      <td>1.606924</td>\n",
       "      <td>1</td>\n",
       "      <td>2</td>\n",
       "      <td>2</td>\n",
       "      <td>575</td>\n",
       "      <td>580</td>\n",
       "      <td>9:35:00</td>\n",
       "      <td>9:40:00</td>\n",
       "      <td>1</td>\n",
       "      <td>...</td>\n",
       "      <td>0.863416</td>\n",
       "      <td>1.483</td>\n",
       "      <td>8</td>\n",
       "      <td>2</td>\n",
       "      <td>8</td>\n",
       "      <td>2</td>\n",
       "      <td>4.0</td>\n",
       "      <td>1</td>\n",
       "      <td>4</td>\n",
       "      <td>0.863416</td>\n",
       "    </tr>\n",
       "    <tr>\n",
       "      <th>2</th>\n",
       "      <td>110001</td>\n",
       "      <td>1.606924</td>\n",
       "      <td>1</td>\n",
       "      <td>3</td>\n",
       "      <td>2</td>\n",
       "      <td>610</td>\n",
       "      <td>620</td>\n",
       "      <td>10:10:00</td>\n",
       "      <td>10:20:00</td>\n",
       "      <td>1</td>\n",
       "      <td>...</td>\n",
       "      <td>1.123565</td>\n",
       "      <td>1.407</td>\n",
       "      <td>8</td>\n",
       "      <td>2</td>\n",
       "      <td>8</td>\n",
       "      <td>2</td>\n",
       "      <td>4.0</td>\n",
       "      <td>2</td>\n",
       "      <td>4</td>\n",
       "      <td>1.123565</td>\n",
       "    </tr>\n",
       "    <tr>\n",
       "      <th>3</th>\n",
       "      <td>110001</td>\n",
       "      <td>1.606924</td>\n",
       "      <td>2</td>\n",
       "      <td>4</td>\n",
       "      <td>2</td>\n",
       "      <td>750</td>\n",
       "      <td>760</td>\n",
       "      <td>12:30:00</td>\n",
       "      <td>12:40:00</td>\n",
       "      <td>1</td>\n",
       "      <td>...</td>\n",
       "      <td>2.167349</td>\n",
       "      <td>3.973</td>\n",
       "      <td>8</td>\n",
       "      <td>2</td>\n",
       "      <td>8</td>\n",
       "      <td>2</td>\n",
       "      <td>8.0</td>\n",
       "      <td>1</td>\n",
       "      <td>8</td>\n",
       "      <td>2.167349</td>\n",
       "    </tr>\n",
       "    <tr>\n",
       "      <th>4</th>\n",
       "      <td>110001</td>\n",
       "      <td>1.606924</td>\n",
       "      <td>2</td>\n",
       "      <td>5</td>\n",
       "      <td>2</td>\n",
       "      <td>810</td>\n",
       "      <td>825</td>\n",
       "      <td>13:30:00</td>\n",
       "      <td>13:45:00</td>\n",
       "      <td>1</td>\n",
       "      <td>...</td>\n",
       "      <td>3.127501</td>\n",
       "      <td>4.811</td>\n",
       "      <td>8</td>\n",
       "      <td>2</td>\n",
       "      <td>8</td>\n",
       "      <td>2</td>\n",
       "      <td>5.0</td>\n",
       "      <td>1</td>\n",
       "      <td>5</td>\n",
       "      <td>3.127501</td>\n",
       "    </tr>\n",
       "  </tbody>\n",
       "</table>\n",
       "<p>5 rows × 75 columns</p>\n",
       "</div>"
      ],
      "text/plain": [
       "     HHNR        WP  AUSNR  WEGNR  DMOD  f51100  f51400 f51100time f51400time  \\\n",
       "0  110001  1.606924      1      1     2     555     565    9:15:00    9:25:00   \n",
       "1  110001  1.606924      1      2     2     575     580    9:35:00    9:40:00   \n",
       "2  110001  1.606924      1      3     2     610     620   10:10:00   10:20:00   \n",
       "3  110001  1.606924      2      4     2     750     760   12:30:00   12:40:00   \n",
       "4  110001  1.606924      2      5     2     810     825   13:30:00   13:45:00   \n",
       "\n",
       "   pseudo  ...  w_luftlin  w_rdist  wmittel1  wmittel1a  wmittel2 wmittel2a  \\\n",
       "0       1  ...   0.333127    0.413         8          2         8         2   \n",
       "1       1  ...   0.863416    1.483         8          2         8         2   \n",
       "2       1  ...   1.123565    1.407         8          2         8         2   \n",
       "3       1  ...   2.167349    3.973         8          2         8         2   \n",
       "4       1  ...   3.127501    4.811         8          2         8         2   \n",
       "\n",
       "  wzweck1 wzweck2  wzweck3  w_dist_obj2  \n",
       "0     5.0       1        5     0.333127  \n",
       "1     4.0       1        4     0.863416  \n",
       "2     4.0       2        4     1.123565  \n",
       "3     8.0       1        8     2.167349  \n",
       "4     5.0       1        5     3.127501  \n",
       "\n",
       "[5 rows x 75 columns]"
      ]
     },
     "execution_count": 90,
     "metadata": {},
     "output_type": "execute_result"
    }
   ],
   "source": [
    "wege.head()"
   ]
  },
  {
   "cell_type": "markdown",
   "metadata": {},
   "source": [
    "## 2. Bereinigung Daten"
   ]
  },
  {
   "cell_type": "code",
   "execution_count": 91,
   "metadata": {},
   "outputs": [
    {
     "name": "stderr",
     "output_type": "stream",
     "text": [
      "/var/folders/40/mpbcjvhd0j52jzpxtm8yrg6r0000gn/T/ipykernel_45782/290900571.py:3: SettingWithCopyWarning: \n",
      "A value is trying to be set on a copy of a slice from a DataFrame\n",
      "\n",
      "See the caveats in the documentation: https://pandas.pydata.org/pandas-docs/stable/user_guide/indexing.html#returning-a-view-versus-a-copy\n",
      "  weg.rename(columns={'HHNR': 'HHNR', 'WEGNR': 'Wegnummer', 'S_X': 'Start_X-Koordinate', 'S_Y': 'Start_Y-Koordinate', 'Z_X': 'Ziel_X-Koordinate', 'Z_Y': 'Ziel_Y-Koordinate', 'f51700_weg': 'Freizeitaktivität', 'dauer2': 'Dauer in Minuten', 'wzweck1': 'Wegzweck'}, inplace=True)\n"
     ]
    },
    {
     "data": {
      "text/html": [
       "<div>\n",
       "<style scoped>\n",
       "    .dataframe tbody tr th:only-of-type {\n",
       "        vertical-align: middle;\n",
       "    }\n",
       "\n",
       "    .dataframe tbody tr th {\n",
       "        vertical-align: top;\n",
       "    }\n",
       "\n",
       "    .dataframe thead th {\n",
       "        text-align: right;\n",
       "    }\n",
       "</style>\n",
       "<table border=\"1\" class=\"dataframe\">\n",
       "  <thead>\n",
       "    <tr style=\"text-align: right;\">\n",
       "      <th></th>\n",
       "      <th>HHNR</th>\n",
       "      <th>Wegnummer</th>\n",
       "      <th>Start_X-Koordinate</th>\n",
       "      <th>Start_Y-Koordinate</th>\n",
       "      <th>Ziel_X-Koordinate</th>\n",
       "      <th>Ziel_Y-Koordinate</th>\n",
       "      <th>Freizeitaktivität</th>\n",
       "      <th>Dauer in Minuten</th>\n",
       "      <th>Wegzweck</th>\n",
       "    </tr>\n",
       "  </thead>\n",
       "  <tbody>\n",
       "    <tr>\n",
       "      <th>0</th>\n",
       "      <td>110001</td>\n",
       "      <td>1</td>\n",
       "      <td>6.559870</td>\n",
       "      <td>46.549366</td>\n",
       "      <td>6.564175</td>\n",
       "      <td>46.548909</td>\n",
       "      <td>-99</td>\n",
       "      <td>10</td>\n",
       "      <td>5.0</td>\n",
       "    </tr>\n",
       "    <tr>\n",
       "      <th>1</th>\n",
       "      <td>110001</td>\n",
       "      <td>2</td>\n",
       "      <td>6.564175</td>\n",
       "      <td>46.548909</td>\n",
       "      <td>6.573270</td>\n",
       "      <td>46.553510</td>\n",
       "      <td>-99</td>\n",
       "      <td>5</td>\n",
       "      <td>4.0</td>\n",
       "    </tr>\n",
       "    <tr>\n",
       "      <th>2</th>\n",
       "      <td>110001</td>\n",
       "      <td>3</td>\n",
       "      <td>6.573270</td>\n",
       "      <td>46.553510</td>\n",
       "      <td>6.559870</td>\n",
       "      <td>46.549366</td>\n",
       "      <td>-99</td>\n",
       "      <td>10</td>\n",
       "      <td>4.0</td>\n",
       "    </tr>\n",
       "    <tr>\n",
       "      <th>3</th>\n",
       "      <td>110001</td>\n",
       "      <td>4</td>\n",
       "      <td>6.559870</td>\n",
       "      <td>46.549366</td>\n",
       "      <td>6.552598</td>\n",
       "      <td>46.568205</td>\n",
       "      <td>2</td>\n",
       "      <td>10</td>\n",
       "      <td>8.0</td>\n",
       "    </tr>\n",
       "    <tr>\n",
       "      <th>4</th>\n",
       "      <td>110001</td>\n",
       "      <td>5</td>\n",
       "      <td>6.552598</td>\n",
       "      <td>46.568205</td>\n",
       "      <td>6.554009</td>\n",
       "      <td>46.540095</td>\n",
       "      <td>-99</td>\n",
       "      <td>15</td>\n",
       "      <td>5.0</td>\n",
       "    </tr>\n",
       "  </tbody>\n",
       "</table>\n",
       "</div>"
      ],
      "text/plain": [
       "     HHNR  Wegnummer  Start_X-Koordinate  Start_Y-Koordinate  \\\n",
       "0  110001          1            6.559870           46.549366   \n",
       "1  110001          2            6.564175           46.548909   \n",
       "2  110001          3            6.573270           46.553510   \n",
       "3  110001          4            6.559870           46.549366   \n",
       "4  110001          5            6.552598           46.568205   \n",
       "\n",
       "   Ziel_X-Koordinate  Ziel_Y-Koordinate  Freizeitaktivität  Dauer in Minuten  \\\n",
       "0           6.564175          46.548909                -99                10   \n",
       "1           6.573270          46.553510                -99                 5   \n",
       "2           6.559870          46.549366                -99                10   \n",
       "3           6.552598          46.568205                  2                10   \n",
       "4           6.554009          46.540095                -99                15   \n",
       "\n",
       "   Wegzweck  \n",
       "0       5.0  \n",
       "1       4.0  \n",
       "2       4.0  \n",
       "3       8.0  \n",
       "4       5.0  "
      ]
     },
     "execution_count": 91,
     "metadata": {},
     "output_type": "execute_result"
    }
   ],
   "source": [
    "wege.head()\n",
    "weg=wege[['HHNR', 'WEGNR', 'S_X', 'S_Y', 'Z_X', 'Z_Y', 'f51700_weg', 'dauer2', 'wzweck1']]\n",
    "weg.rename(columns={'HHNR': 'HHNR', 'WEGNR': 'Wegnummer', 'S_X': 'Start_X-Koordinate', 'S_Y': 'Start_Y-Koordinate', 'Z_X': 'Ziel_X-Koordinate', 'Z_Y': 'Ziel_Y-Koordinate', 'f51700_weg': 'Freizeitaktivität', 'dauer2': 'Dauer in Minuten', 'wzweck1': 'Wegzweck'}, inplace=True)\n",
    "weg.head()"
   ]
  },
  {
   "cell_type": "code",
   "execution_count": 92,
   "metadata": {},
   "outputs": [
    {
     "data": {
      "text/plain": [
       "151188"
      ]
     },
     "execution_count": 92,
     "metadata": {},
     "output_type": "execute_result"
    }
   ],
   "source": [
    "#länge der Tabelle\n",
    "len(weg)"
   ]
  },
  {
   "cell_type": "code",
   "execution_count": 93,
   "metadata": {},
   "outputs": [
    {
     "data": {
      "text/plain": [
       "Wegzweck\n",
       " 8.0     55751\n",
       " 2.0     30035\n",
       " 4.0     27756\n",
       " 3.0     12864\n",
       " 5.0     10314\n",
       " 9.0      5453\n",
       " 10.0     4288\n",
       " 11.0     1358\n",
       " 12.0     1126\n",
       " 6.0      1097\n",
       " 7.0      1006\n",
       "-99.0       93\n",
       "-98.0       36\n",
       "-97.0        9\n",
       "Name: count, dtype: int64"
      ]
     },
     "execution_count": 93,
     "metadata": {},
     "output_type": "execute_result"
    }
   ],
   "source": [
    "#zähle unique values in der Spalte WEgzweck\n",
    "weg['Wegzweck'].value_counts()"
   ]
  },
  {
   "cell_type": "code",
   "execution_count": 94,
   "metadata": {},
   "outputs": [
    {
     "name": "stderr",
     "output_type": "stream",
     "text": [
      "/var/folders/40/mpbcjvhd0j52jzpxtm8yrg6r0000gn/T/ipykernel_45782/2600206432.py:3: SettingWithCopyWarning: \n",
      "A value is trying to be set on a copy of a slice from a DataFrame\n",
      "\n",
      "See the caveats in the documentation: https://pandas.pydata.org/pandas-docs/stable/user_guide/indexing.html#returning-a-view-versus-a-copy\n",
      "  zielp.rename(columns={'HHNR': 'HHNR', 'alter': 'Alter', 'gesl': 'Geschlecht', 'f20400a': 'Führerausweis PW', 'f20400b': 'Führerausweis Motorräder', 'f20400c': 'Lernfahrausweis PW', 'f20400d': 'Lernfahrausweis Motorräder', 'f40120': 'Ausbildungsniveau', 'f81200': 'Arbeitszeitmodelle', 'f50100a': 'Wetter',  'f42100a': 'Velo-Besitzer', 'f42100b': 'Mofa-Besitzer', 'f42100c': 'Kleinmotorrad-Besitzer', 'f42100d': 'Motorrad-Besitzer', 'f42100e': 'Auto-Besitzer', 'zivil': 'Familienstand', 'ESTATUS': 'Erwerbsstatus', 'T_FREIZEIT': 'Tägliche Freizeitwege'}, inplace=True)\n"
     ]
    },
    {
     "data": {
      "text/html": [
       "<div>\n",
       "<style scoped>\n",
       "    .dataframe tbody tr th:only-of-type {\n",
       "        vertical-align: middle;\n",
       "    }\n",
       "\n",
       "    .dataframe tbody tr th {\n",
       "        vertical-align: top;\n",
       "    }\n",
       "\n",
       "    .dataframe thead th {\n",
       "        text-align: right;\n",
       "    }\n",
       "</style>\n",
       "<table border=\"1\" class=\"dataframe\">\n",
       "  <thead>\n",
       "    <tr style=\"text-align: right;\">\n",
       "      <th></th>\n",
       "      <th>HHNR</th>\n",
       "      <th>Alter</th>\n",
       "      <th>Geschlecht</th>\n",
       "      <th>Führerausweis PW</th>\n",
       "      <th>Führerausweis Motorräder</th>\n",
       "      <th>Lernfahrausweis PW</th>\n",
       "      <th>Lernfahrausweis Motorräder</th>\n",
       "      <th>Ausbildungsniveau</th>\n",
       "      <th>Arbeitszeitmodelle</th>\n",
       "      <th>Wetter</th>\n",
       "      <th>Velo-Besitzer</th>\n",
       "      <th>Mofa-Besitzer</th>\n",
       "      <th>Kleinmotorrad-Besitzer</th>\n",
       "      <th>Motorrad-Besitzer</th>\n",
       "      <th>Auto-Besitzer</th>\n",
       "      <th>Familienstand</th>\n",
       "      <th>Erwerbsstatus</th>\n",
       "      <th>Tägliche Freizeitwege</th>\n",
       "    </tr>\n",
       "  </thead>\n",
       "  <tbody>\n",
       "    <tr>\n",
       "      <th>0</th>\n",
       "      <td>110001</td>\n",
       "      <td>57</td>\n",
       "      <td>1</td>\n",
       "      <td>1</td>\n",
       "      <td>1</td>\n",
       "      <td>-99</td>\n",
       "      <td>-99</td>\n",
       "      <td>4</td>\n",
       "      <td>-99</td>\n",
       "      <td>1</td>\n",
       "      <td>3</td>\n",
       "      <td>3</td>\n",
       "      <td>3</td>\n",
       "      <td>1</td>\n",
       "      <td>1</td>\n",
       "      <td>4</td>\n",
       "      <td>3</td>\n",
       "      <td>3</td>\n",
       "    </tr>\n",
       "    <tr>\n",
       "      <th>1</th>\n",
       "      <td>110008</td>\n",
       "      <td>57</td>\n",
       "      <td>1</td>\n",
       "      <td>1</td>\n",
       "      <td>1</td>\n",
       "      <td>-99</td>\n",
       "      <td>-99</td>\n",
       "      <td>2</td>\n",
       "      <td>-99</td>\n",
       "      <td>1</td>\n",
       "      <td>3</td>\n",
       "      <td>3</td>\n",
       "      <td>3</td>\n",
       "      <td>1</td>\n",
       "      <td>3</td>\n",
       "      <td>2</td>\n",
       "      <td>5</td>\n",
       "      <td>2</td>\n",
       "    </tr>\n",
       "    <tr>\n",
       "      <th>2</th>\n",
       "      <td>110011</td>\n",
       "      <td>16</td>\n",
       "      <td>2</td>\n",
       "      <td>-99</td>\n",
       "      <td>-99</td>\n",
       "      <td>-99</td>\n",
       "      <td>-99</td>\n",
       "      <td>2</td>\n",
       "      <td>-99</td>\n",
       "      <td>5</td>\n",
       "      <td>1</td>\n",
       "      <td>3</td>\n",
       "      <td>3</td>\n",
       "      <td>-99</td>\n",
       "      <td>-99</td>\n",
       "      <td>1</td>\n",
       "      <td>4</td>\n",
       "      <td>1</td>\n",
       "    </tr>\n",
       "    <tr>\n",
       "      <th>3</th>\n",
       "      <td>110024</td>\n",
       "      <td>17</td>\n",
       "      <td>2</td>\n",
       "      <td>-99</td>\n",
       "      <td>-99</td>\n",
       "      <td>2</td>\n",
       "      <td>2</td>\n",
       "      <td>2</td>\n",
       "      <td>-99</td>\n",
       "      <td>6</td>\n",
       "      <td>1</td>\n",
       "      <td>2</td>\n",
       "      <td>2</td>\n",
       "      <td>-99</td>\n",
       "      <td>-99</td>\n",
       "      <td>1</td>\n",
       "      <td>4</td>\n",
       "      <td>0</td>\n",
       "    </tr>\n",
       "    <tr>\n",
       "      <th>4</th>\n",
       "      <td>110026</td>\n",
       "      <td>53</td>\n",
       "      <td>2</td>\n",
       "      <td>1</td>\n",
       "      <td>1</td>\n",
       "      <td>-99</td>\n",
       "      <td>-99</td>\n",
       "      <td>4</td>\n",
       "      <td>-99</td>\n",
       "      <td>1</td>\n",
       "      <td>1</td>\n",
       "      <td>3</td>\n",
       "      <td>3</td>\n",
       "      <td>1</td>\n",
       "      <td>2</td>\n",
       "      <td>1</td>\n",
       "      <td>8</td>\n",
       "      <td>3</td>\n",
       "    </tr>\n",
       "  </tbody>\n",
       "</table>\n",
       "</div>"
      ],
      "text/plain": [
       "     HHNR  Alter  Geschlecht  Führerausweis PW  Führerausweis Motorräder  \\\n",
       "0  110001     57           1                 1                         1   \n",
       "1  110008     57           1                 1                         1   \n",
       "2  110011     16           2               -99                       -99   \n",
       "3  110024     17           2               -99                       -99   \n",
       "4  110026     53           2                 1                         1   \n",
       "\n",
       "   Lernfahrausweis PW  Lernfahrausweis Motorräder  Ausbildungsniveau  \\\n",
       "0                 -99                         -99                  4   \n",
       "1                 -99                         -99                  2   \n",
       "2                 -99                         -99                  2   \n",
       "3                   2                           2                  2   \n",
       "4                 -99                         -99                  4   \n",
       "\n",
       "   Arbeitszeitmodelle  Wetter  Velo-Besitzer  Mofa-Besitzer  \\\n",
       "0                 -99       1              3              3   \n",
       "1                 -99       1              3              3   \n",
       "2                 -99       5              1              3   \n",
       "3                 -99       6              1              2   \n",
       "4                 -99       1              1              3   \n",
       "\n",
       "   Kleinmotorrad-Besitzer  Motorrad-Besitzer  Auto-Besitzer  Familienstand  \\\n",
       "0                       3                  1              1              4   \n",
       "1                       3                  1              3              2   \n",
       "2                       3                -99            -99              1   \n",
       "3                       2                -99            -99              1   \n",
       "4                       3                  1              2              1   \n",
       "\n",
       "   Erwerbsstatus  Tägliche Freizeitwege  \n",
       "0              3                      3  \n",
       "1              5                      2  \n",
       "2              4                      1  \n",
       "3              4                      0  \n",
       "4              8                      3  "
      ]
     },
     "execution_count": 94,
     "metadata": {},
     "output_type": "execute_result"
    }
   ],
   "source": [
    "zielpersonen.head()\n",
    "zielp=zielpersonen[['HHNR', 'alter', 'gesl', 'f20400a','f20400b', 'f20400c', 'f20400d', 'f40120', 'f81200', 'f50100a','f42100a', 'f42100b', 'f42100c', 'f42100d', 'f42100e', 'zivil', 'ESTATUS', 'T_FREIZEIT']]\n",
    "zielp.rename(columns={'HHNR': 'HHNR', 'alter': 'Alter', 'gesl': 'Geschlecht', 'f20400a': 'Führerausweis PW', 'f20400b': 'Führerausweis Motorräder', 'f20400c': 'Lernfahrausweis PW', 'f20400d': 'Lernfahrausweis Motorräder', 'f40120': 'Ausbildungsniveau', 'f81200': 'Arbeitszeitmodelle', 'f50100a': 'Wetter',  'f42100a': 'Velo-Besitzer', 'f42100b': 'Mofa-Besitzer', 'f42100c': 'Kleinmotorrad-Besitzer', 'f42100d': 'Motorrad-Besitzer', 'f42100e': 'Auto-Besitzer', 'zivil': 'Familienstand', 'ESTATUS': 'Erwerbsstatus', 'T_FREIZEIT': 'Tägliche Freizeitwege'}, inplace=True)\n",
    "zielp.head()"
   ]
  },
  {
   "cell_type": "code",
   "execution_count": 95,
   "metadata": {},
   "outputs": [
    {
     "data": {
      "text/plain": [
       "55018"
      ]
     },
     "execution_count": 95,
     "metadata": {},
     "output_type": "execute_result"
    }
   ],
   "source": [
    "len(zielp)"
   ]
  },
  {
   "cell_type": "markdown",
   "metadata": {},
   "source": [
    "Die Datensätze beinhalten keine Null-Werte und keine Duplikate"
   ]
  },
  {
   "cell_type": "markdown",
   "metadata": {},
   "source": [
    "## 3. Merge"
   ]
  },
  {
   "cell_type": "code",
   "execution_count": 96,
   "metadata": {},
   "outputs": [],
   "source": [
    "# Right Join der DataFrames auf Basis der Spalte 'HHNR'\n",
    "merged_data = weg.merge(zielp, on='HHNR', how='left')\n"
   ]
  },
  {
   "cell_type": "code",
   "execution_count": 97,
   "metadata": {},
   "outputs": [
    {
     "name": "stdout",
     "output_type": "stream",
     "text": [
      "Anzahl der Wege ohne zugeordnete Zielperson: 0\n",
      "HHNR-Werte ohne zugeordnete Zielperson: []\n"
     ]
    }
   ],
   "source": [
    "# Finde alle Wege, denen keine Zielperson zugeordnet ist\n",
    "no_zielperson = merged_data[merged_data['Alter'].isna()]  # 'alter' ist ein Beispiel; ersetze es durch eine Spalte, die nur in 'zielpersonen' existiert\n",
    "\n",
    "# Gib die HHNR-Werte aus, die keine Zielperson zugeordnet haben\n",
    "nicht_zugeordnete_wege = no_zielperson['HHNR'].unique()  # Gibt die eindeutigen HHNR ohne Zuordnung\n",
    "\n",
    "print(\"Anzahl der Wege ohne zugeordnete Zielperson:\", len(nicht_zugeordnete_wege))\n",
    "print(\"HHNR-Werte ohne zugeordnete Zielperson:\", nicht_zugeordnete_wege)"
   ]
  },
  {
   "cell_type": "code",
   "execution_count": 98,
   "metadata": {},
   "outputs": [
    {
     "data": {
      "text/plain": [
       "151188"
      ]
     },
     "execution_count": 98,
     "metadata": {},
     "output_type": "execute_result"
    }
   ],
   "source": [
    "len(merged_data)"
   ]
  },
  {
   "cell_type": "markdown",
   "metadata": {},
   "source": [
    "Dataset verfügt noch über 151'188 Einträge"
   ]
  },
  {
   "cell_type": "code",
   "execution_count": 99,
   "metadata": {},
   "outputs": [
    {
     "data": {
      "text/html": [
       "<div>\n",
       "<style scoped>\n",
       "    .dataframe tbody tr th:only-of-type {\n",
       "        vertical-align: middle;\n",
       "    }\n",
       "\n",
       "    .dataframe tbody tr th {\n",
       "        vertical-align: top;\n",
       "    }\n",
       "\n",
       "    .dataframe thead th {\n",
       "        text-align: right;\n",
       "    }\n",
       "</style>\n",
       "<table border=\"1\" class=\"dataframe\">\n",
       "  <thead>\n",
       "    <tr style=\"text-align: right;\">\n",
       "      <th></th>\n",
       "      <th>HHNR</th>\n",
       "      <th>Wegnummer</th>\n",
       "      <th>Start_X-Koordinate</th>\n",
       "      <th>Start_Y-Koordinate</th>\n",
       "      <th>Ziel_X-Koordinate</th>\n",
       "      <th>Ziel_Y-Koordinate</th>\n",
       "      <th>Freizeitaktivität</th>\n",
       "      <th>Dauer in Minuten</th>\n",
       "      <th>Wegzweck</th>\n",
       "      <th>Alter</th>\n",
       "      <th>...</th>\n",
       "      <th>Arbeitszeitmodelle</th>\n",
       "      <th>Wetter</th>\n",
       "      <th>Velo-Besitzer</th>\n",
       "      <th>Mofa-Besitzer</th>\n",
       "      <th>Kleinmotorrad-Besitzer</th>\n",
       "      <th>Motorrad-Besitzer</th>\n",
       "      <th>Auto-Besitzer</th>\n",
       "      <th>Familienstand</th>\n",
       "      <th>Erwerbsstatus</th>\n",
       "      <th>Tägliche Freizeitwege</th>\n",
       "    </tr>\n",
       "  </thead>\n",
       "  <tbody>\n",
       "    <tr>\n",
       "      <th>0</th>\n",
       "      <td>110001</td>\n",
       "      <td>1</td>\n",
       "      <td>6.559870</td>\n",
       "      <td>46.549366</td>\n",
       "      <td>6.564175</td>\n",
       "      <td>46.548909</td>\n",
       "      <td>-99</td>\n",
       "      <td>10</td>\n",
       "      <td>5.0</td>\n",
       "      <td>57</td>\n",
       "      <td>...</td>\n",
       "      <td>-99</td>\n",
       "      <td>1</td>\n",
       "      <td>3</td>\n",
       "      <td>3</td>\n",
       "      <td>3</td>\n",
       "      <td>1</td>\n",
       "      <td>1</td>\n",
       "      <td>4</td>\n",
       "      <td>3</td>\n",
       "      <td>3</td>\n",
       "    </tr>\n",
       "    <tr>\n",
       "      <th>1</th>\n",
       "      <td>110001</td>\n",
       "      <td>2</td>\n",
       "      <td>6.564175</td>\n",
       "      <td>46.548909</td>\n",
       "      <td>6.573270</td>\n",
       "      <td>46.553510</td>\n",
       "      <td>-99</td>\n",
       "      <td>5</td>\n",
       "      <td>4.0</td>\n",
       "      <td>57</td>\n",
       "      <td>...</td>\n",
       "      <td>-99</td>\n",
       "      <td>1</td>\n",
       "      <td>3</td>\n",
       "      <td>3</td>\n",
       "      <td>3</td>\n",
       "      <td>1</td>\n",
       "      <td>1</td>\n",
       "      <td>4</td>\n",
       "      <td>3</td>\n",
       "      <td>3</td>\n",
       "    </tr>\n",
       "    <tr>\n",
       "      <th>2</th>\n",
       "      <td>110001</td>\n",
       "      <td>3</td>\n",
       "      <td>6.573270</td>\n",
       "      <td>46.553510</td>\n",
       "      <td>6.559870</td>\n",
       "      <td>46.549366</td>\n",
       "      <td>-99</td>\n",
       "      <td>10</td>\n",
       "      <td>4.0</td>\n",
       "      <td>57</td>\n",
       "      <td>...</td>\n",
       "      <td>-99</td>\n",
       "      <td>1</td>\n",
       "      <td>3</td>\n",
       "      <td>3</td>\n",
       "      <td>3</td>\n",
       "      <td>1</td>\n",
       "      <td>1</td>\n",
       "      <td>4</td>\n",
       "      <td>3</td>\n",
       "      <td>3</td>\n",
       "    </tr>\n",
       "    <tr>\n",
       "      <th>3</th>\n",
       "      <td>110001</td>\n",
       "      <td>4</td>\n",
       "      <td>6.559870</td>\n",
       "      <td>46.549366</td>\n",
       "      <td>6.552598</td>\n",
       "      <td>46.568205</td>\n",
       "      <td>2</td>\n",
       "      <td>10</td>\n",
       "      <td>8.0</td>\n",
       "      <td>57</td>\n",
       "      <td>...</td>\n",
       "      <td>-99</td>\n",
       "      <td>1</td>\n",
       "      <td>3</td>\n",
       "      <td>3</td>\n",
       "      <td>3</td>\n",
       "      <td>1</td>\n",
       "      <td>1</td>\n",
       "      <td>4</td>\n",
       "      <td>3</td>\n",
       "      <td>3</td>\n",
       "    </tr>\n",
       "    <tr>\n",
       "      <th>4</th>\n",
       "      <td>110001</td>\n",
       "      <td>5</td>\n",
       "      <td>6.552598</td>\n",
       "      <td>46.568205</td>\n",
       "      <td>6.554009</td>\n",
       "      <td>46.540095</td>\n",
       "      <td>-99</td>\n",
       "      <td>15</td>\n",
       "      <td>5.0</td>\n",
       "      <td>57</td>\n",
       "      <td>...</td>\n",
       "      <td>-99</td>\n",
       "      <td>1</td>\n",
       "      <td>3</td>\n",
       "      <td>3</td>\n",
       "      <td>3</td>\n",
       "      <td>1</td>\n",
       "      <td>1</td>\n",
       "      <td>4</td>\n",
       "      <td>3</td>\n",
       "      <td>3</td>\n",
       "    </tr>\n",
       "  </tbody>\n",
       "</table>\n",
       "<p>5 rows × 26 columns</p>\n",
       "</div>"
      ],
      "text/plain": [
       "     HHNR  Wegnummer  Start_X-Koordinate  Start_Y-Koordinate  \\\n",
       "0  110001          1            6.559870           46.549366   \n",
       "1  110001          2            6.564175           46.548909   \n",
       "2  110001          3            6.573270           46.553510   \n",
       "3  110001          4            6.559870           46.549366   \n",
       "4  110001          5            6.552598           46.568205   \n",
       "\n",
       "   Ziel_X-Koordinate  Ziel_Y-Koordinate  Freizeitaktivität  Dauer in Minuten  \\\n",
       "0           6.564175          46.548909                -99                10   \n",
       "1           6.573270          46.553510                -99                 5   \n",
       "2           6.559870          46.549366                -99                10   \n",
       "3           6.552598          46.568205                  2                10   \n",
       "4           6.554009          46.540095                -99                15   \n",
       "\n",
       "   Wegzweck  Alter  ...  Arbeitszeitmodelle  Wetter  Velo-Besitzer  \\\n",
       "0       5.0     57  ...                 -99       1              3   \n",
       "1       4.0     57  ...                 -99       1              3   \n",
       "2       4.0     57  ...                 -99       1              3   \n",
       "3       8.0     57  ...                 -99       1              3   \n",
       "4       5.0     57  ...                 -99       1              3   \n",
       "\n",
       "   Mofa-Besitzer  Kleinmotorrad-Besitzer  Motorrad-Besitzer  Auto-Besitzer  \\\n",
       "0              3                       3                  1              1   \n",
       "1              3                       3                  1              1   \n",
       "2              3                       3                  1              1   \n",
       "3              3                       3                  1              1   \n",
       "4              3                       3                  1              1   \n",
       "\n",
       "   Familienstand  Erwerbsstatus  Tägliche Freizeitwege  \n",
       "0              4              3                      3  \n",
       "1              4              3                      3  \n",
       "2              4              3                      3  \n",
       "3              4              3                      3  \n",
       "4              4              3                      3  \n",
       "\n",
       "[5 rows x 26 columns]"
      ]
     },
     "execution_count": 99,
     "metadata": {},
     "output_type": "execute_result"
    }
   ],
   "source": [
    "merged_data.head()"
   ]
  },
  {
   "cell_type": "code",
   "execution_count": 100,
   "metadata": {},
   "outputs": [
    {
     "data": {
      "text/plain": [
       "Index(['HHNR', 'Wegnummer', 'Start_X-Koordinate', 'Start_Y-Koordinate',\n",
       "       'Ziel_X-Koordinate', 'Ziel_Y-Koordinate', 'Freizeitaktivität',\n",
       "       'Dauer in Minuten', 'Wegzweck', 'Alter', 'Geschlecht',\n",
       "       'Führerausweis PW', 'Führerausweis Motorräder', 'Lernfahrausweis PW',\n",
       "       'Lernfahrausweis Motorräder', 'Ausbildungsniveau', 'Arbeitszeitmodelle',\n",
       "       'Wetter', 'Velo-Besitzer', 'Mofa-Besitzer', 'Kleinmotorrad-Besitzer',\n",
       "       'Motorrad-Besitzer', 'Auto-Besitzer', 'Familienstand', 'Erwerbsstatus',\n",
       "       'Tägliche Freizeitwege'],\n",
       "      dtype='object')"
      ]
     },
     "execution_count": 100,
     "metadata": {},
     "output_type": "execute_result"
    }
   ],
   "source": [
    "merged_data.columns"
   ]
  },
  {
   "cell_type": "markdown",
   "metadata": {},
   "source": [
    "## 4. Filter"
   ]
  },
  {
   "cell_type": "markdown",
   "metadata": {},
   "source": [
    "\n",
    "Wegzwecke Filter auf 8 setzen für Freizeitwege"
   ]
  },
  {
   "cell_type": "code",
   "execution_count": 101,
   "metadata": {},
   "outputs": [
    {
     "data": {
      "text/plain": [
       "array([  5.,   4.,   8.,   2.,  11.,   3.,   9.,   7.,  10.,  12.,   6.,\n",
       "       -99., -98., -97.,  nan])"
      ]
     },
     "execution_count": 101,
     "metadata": {},
     "output_type": "execute_result"
    }
   ],
   "source": [
    "merged_data['Wegzweck'].unique()"
   ]
  },
  {
   "cell_type": "code",
   "execution_count": 102,
   "metadata": {},
   "outputs": [],
   "source": [
    "#Filtere komplette Tabelle auf Wegzwecke = 8\n",
    "merged_data_leisure = merged_data[merged_data['Wegzweck'] == 8]"
   ]
  },
  {
   "cell_type": "code",
   "execution_count": 103,
   "metadata": {},
   "outputs": [
    {
     "data": {
      "text/plain": [
       "55751"
      ]
     },
     "execution_count": 103,
     "metadata": {},
     "output_type": "execute_result"
    }
   ],
   "source": [
    "len(merged_data_leisure)"
   ]
  },
  {
   "cell_type": "markdown",
   "metadata": {},
   "source": [
    "Dataset verfügt noch über 55'751 Einträge"
   ]
  },
  {
   "cell_type": "markdown",
   "metadata": {},
   "source": [
    "Art der Freizeitaktivität kategorisieren:\n",
    "\n",
    "- -99: WZWECK1 NE 8\n",
    "- -98: Keine Antwort\n",
    "- -97: weiss nicht\n",
    "\n",
    "- 18: Anderes - manuell Aufnehmen\n",
    "- 22: mehrere Aktivitäten\n",
    "\n",
    "Alles zu unbekannt\n"
   ]
  },
  {
   "cell_type": "code",
   "execution_count": 104,
   "metadata": {},
   "outputs": [
    {
     "name": "stderr",
     "output_type": "stream",
     "text": [
      "/var/folders/40/mpbcjvhd0j52jzpxtm8yrg6r0000gn/T/ipykernel_45782/2156852050.py:2: FutureWarning: Setting an item of incompatible dtype is deprecated and will raise an error in a future version of pandas. Value 'unbekannt' has dtype incompatible with int64, please explicitly cast to a compatible dtype first.\n",
      "  merged_data_leisure.loc[merged_data_leisure['Freizeitaktivität'].isin([-99, -98, -97, 18, 22]), 'Freizeitaktivität'] = 'unbekannt'\n"
     ]
    }
   ],
   "source": [
    "# Ersetzen der spezifischen Werte -99, -98, -97, 18 und 22 durch \"unbekannt\"\n",
    "merged_data_leisure.loc[merged_data_leisure['Freizeitaktivität'].isin([-99, -98, -97, 18, 22]), 'Freizeitaktivität'] = 'unbekannt'\n"
   ]
  },
  {
   "cell_type": "markdown",
   "metadata": {},
   "source": [
    "Mofa- und Kleinmotorradbesitzer zusammen nehmen und nach Mofa bennenen"
   ]
  },
  {
   "cell_type": "code",
   "execution_count": 105,
   "metadata": {},
   "outputs": [
    {
     "name": "stderr",
     "output_type": "stream",
     "text": [
      "/var/folders/40/mpbcjvhd0j52jzpxtm8yrg6r0000gn/T/ipykernel_45782/415521471.py:2: SettingWithCopyWarning: \n",
      "A value is trying to be set on a copy of a slice from a DataFrame.\n",
      "Try using .loc[row_indexer,col_indexer] = value instead\n",
      "\n",
      "See the caveats in the documentation: https://pandas.pydata.org/pandas-docs/stable/user_guide/indexing.html#returning-a-view-versus-a-copy\n",
      "  merged_data_leisure['Mofa'] = merged_data_leisure['Mofa-Besitzer'] + merged_data_leisure['Kleinmotorrad-Besitzer']\n"
     ]
    }
   ],
   "source": [
    "#Spalte Mofa-Besitzer und Kleinmotorrad-Besitzer zusammenfassen\n",
    "merged_data_leisure['Mofa'] = merged_data_leisure['Mofa-Besitzer'] + merged_data_leisure['Kleinmotorrad-Besitzer']"
   ]
  },
  {
   "cell_type": "markdown",
   "metadata": {},
   "source": [
    "Freizeitaktivitäten; Nummern ausschreiben\n",
    "\n",
    "    1: \"Besuche (Verwandte, Bekannte, Freunde)\",\n",
    "    2: \"Gastronomiebesuch (Restaurant, Bar, Café,)\",\n",
    "    3: \"Aktiver Sport (Fussball, Jogging)\",\n",
    "    4: \"Wanderung\",\n",
    "    5: \"Velofahrt\",\n",
    "    6: \"Passiver Sport (Matchbesuch)\",\n",
    "    7: \"Nicht-sportliche Aussenaktivität (z.B. Spazieren mit dem Hund)\",\n",
    "    8: \"Medizin/Wellness/Fitness\",\n",
    "    9: \"Kulturveranstaltungen, Freizeitanlagen (z.B. Vergnügungsparks)\",\n",
    "    10: \"Unbezahlte Arbeit\",\n",
    "    11: \"Vereinstätigkeit\",\n",
    "    12: \"Ausflug, Ferien\",\n",
    "    13: \"Religion (Kirche, Friedhof, Pilgerfahrt)\",\n",
    "    14: \"Häusliche Freizeitaktivitäten auswärts\",\n",
    "    15: \"Essen ohne Gastronomiebesuch (Pick-Nick, Grillparty etc.)\",\n",
    "    16: \"Einkaufsbummel / Shopping\",\n",
    "    17: \"Rundreise (Auto-/Motorrad-/Zugsfahrt etc.)\""
   ]
  },
  {
   "cell_type": "code",
   "execution_count": 106,
   "metadata": {},
   "outputs": [
    {
     "name": "stderr",
     "output_type": "stream",
     "text": [
      "/var/folders/40/mpbcjvhd0j52jzpxtm8yrg6r0000gn/T/ipykernel_45782/1724883842.py:23: SettingWithCopyWarning: \n",
      "A value is trying to be set on a copy of a slice from a DataFrame.\n",
      "Try using .loc[row_indexer,col_indexer] = value instead\n",
      "\n",
      "See the caveats in the documentation: https://pandas.pydata.org/pandas-docs/stable/user_guide/indexing.html#returning-a-view-versus-a-copy\n",
      "  merged_data_leisure[\"Freizeitaktivität\"] = merged_data_leisure[\"Freizeitaktivität\"].map(freizeitaktivitaeten_mapping)\n"
     ]
    }
   ],
   "source": [
    "# Mapping-Liste für die neuen Bezeichnungen\n",
    "freizeitaktivitaeten_mapping = {\n",
    "    1: \"Besuche\",\n",
    "    2: \"Gastronomiebesuch\",\n",
    "    3: \"Aktiver Sport\",\n",
    "    4: \"Wanderung\",\n",
    "    5: \"Velofahrt\",\n",
    "    6: \"Passiver Sport\",\n",
    "    7: \"Nicht-sportliche Aussenaktivität\",\n",
    "    8: \"Medizin/Wellness/Fitness\",\n",
    "    9: \"Kulturveranstaltungen, Freizeitanlagen\",\n",
    "    10: \"Unbezahlte Arbeit\",\n",
    "    11: \"Vereinstätigkeit\",\n",
    "    12: \"Ausflug, Ferien\",\n",
    "    13: \"Religion\",\n",
    "    14: \"Häusliche Freizeitaktivitäten auswärts\",\n",
    "    15: \"Essen ohne Gastronomiebesuch\",\n",
    "    16: \"Einkaufsbummel / Shopping\",\n",
    "    17: \"Rundreise\",\n",
    "}\n",
    "\n",
    "# Umbenennen der Werte in der Spalte 'Freizeitaktivität' anhand der Mapping-Liste\n",
    "merged_data_leisure[\"Freizeitaktivität\"] = merged_data_leisure[\"Freizeitaktivität\"].map(freizeitaktivitaeten_mapping)\n"
   ]
  },
  {
   "cell_type": "code",
   "execution_count": 107,
   "metadata": {},
   "outputs": [
    {
     "data": {
      "text/plain": [
       "55751"
      ]
     },
     "execution_count": 107,
     "metadata": {},
     "output_type": "execute_result"
    }
   ],
   "source": [
    "len(merged_data_leisure)"
   ]
  },
  {
   "cell_type": "code",
   "execution_count": 108,
   "metadata": {},
   "outputs": [
    {
     "data": {
      "text/html": [
       "<div>\n",
       "<style scoped>\n",
       "    .dataframe tbody tr th:only-of-type {\n",
       "        vertical-align: middle;\n",
       "    }\n",
       "\n",
       "    .dataframe tbody tr th {\n",
       "        vertical-align: top;\n",
       "    }\n",
       "\n",
       "    .dataframe thead th {\n",
       "        text-align: right;\n",
       "    }\n",
       "</style>\n",
       "<table border=\"1\" class=\"dataframe\">\n",
       "  <thead>\n",
       "    <tr style=\"text-align: right;\">\n",
       "      <th></th>\n",
       "      <th>HHNR</th>\n",
       "      <th>Wegnummer</th>\n",
       "      <th>Start_X-Koordinate</th>\n",
       "      <th>Start_Y-Koordinate</th>\n",
       "      <th>Ziel_X-Koordinate</th>\n",
       "      <th>Ziel_Y-Koordinate</th>\n",
       "      <th>Freizeitaktivität</th>\n",
       "      <th>Dauer in Minuten</th>\n",
       "      <th>Wegzweck</th>\n",
       "      <th>Alter</th>\n",
       "      <th>...</th>\n",
       "      <th>Wetter</th>\n",
       "      <th>Velo-Besitzer</th>\n",
       "      <th>Mofa-Besitzer</th>\n",
       "      <th>Kleinmotorrad-Besitzer</th>\n",
       "      <th>Motorrad-Besitzer</th>\n",
       "      <th>Auto-Besitzer</th>\n",
       "      <th>Familienstand</th>\n",
       "      <th>Erwerbsstatus</th>\n",
       "      <th>Tägliche Freizeitwege</th>\n",
       "      <th>Mofa</th>\n",
       "    </tr>\n",
       "  </thead>\n",
       "  <tbody>\n",
       "    <tr>\n",
       "      <th>3</th>\n",
       "      <td>110001</td>\n",
       "      <td>4</td>\n",
       "      <td>6.559870</td>\n",
       "      <td>46.549366</td>\n",
       "      <td>6.552598</td>\n",
       "      <td>46.568205</td>\n",
       "      <td>Gastronomiebesuch</td>\n",
       "      <td>10</td>\n",
       "      <td>8.0</td>\n",
       "      <td>57</td>\n",
       "      <td>...</td>\n",
       "      <td>1</td>\n",
       "      <td>3</td>\n",
       "      <td>3</td>\n",
       "      <td>3</td>\n",
       "      <td>1</td>\n",
       "      <td>1</td>\n",
       "      <td>4</td>\n",
       "      <td>3</td>\n",
       "      <td>3</td>\n",
       "      <td>6</td>\n",
       "    </tr>\n",
       "    <tr>\n",
       "      <th>5</th>\n",
       "      <td>110001</td>\n",
       "      <td>6</td>\n",
       "      <td>6.554009</td>\n",
       "      <td>46.540095</td>\n",
       "      <td>6.554009</td>\n",
       "      <td>46.540095</td>\n",
       "      <td>Einkaufsbummel / Shopping</td>\n",
       "      <td>5</td>\n",
       "      <td>8.0</td>\n",
       "      <td>57</td>\n",
       "      <td>...</td>\n",
       "      <td>1</td>\n",
       "      <td>3</td>\n",
       "      <td>3</td>\n",
       "      <td>3</td>\n",
       "      <td>1</td>\n",
       "      <td>1</td>\n",
       "      <td>4</td>\n",
       "      <td>3</td>\n",
       "      <td>3</td>\n",
       "      <td>6</td>\n",
       "    </tr>\n",
       "    <tr>\n",
       "      <th>6</th>\n",
       "      <td>110001</td>\n",
       "      <td>7</td>\n",
       "      <td>6.554009</td>\n",
       "      <td>46.540095</td>\n",
       "      <td>6.559870</td>\n",
       "      <td>46.549366</td>\n",
       "      <td>NaN</td>\n",
       "      <td>10</td>\n",
       "      <td>8.0</td>\n",
       "      <td>57</td>\n",
       "      <td>...</td>\n",
       "      <td>1</td>\n",
       "      <td>3</td>\n",
       "      <td>3</td>\n",
       "      <td>3</td>\n",
       "      <td>1</td>\n",
       "      <td>1</td>\n",
       "      <td>4</td>\n",
       "      <td>3</td>\n",
       "      <td>3</td>\n",
       "      <td>6</td>\n",
       "    </tr>\n",
       "    <tr>\n",
       "      <th>7</th>\n",
       "      <td>110008</td>\n",
       "      <td>1</td>\n",
       "      <td>6.635652</td>\n",
       "      <td>46.785591</td>\n",
       "      <td>6.635652</td>\n",
       "      <td>46.785591</td>\n",
       "      <td>Nicht-sportliche Aussenaktivität</td>\n",
       "      <td>120</td>\n",
       "      <td>8.0</td>\n",
       "      <td>57</td>\n",
       "      <td>...</td>\n",
       "      <td>1</td>\n",
       "      <td>3</td>\n",
       "      <td>3</td>\n",
       "      <td>3</td>\n",
       "      <td>1</td>\n",
       "      <td>3</td>\n",
       "      <td>2</td>\n",
       "      <td>5</td>\n",
       "      <td>2</td>\n",
       "      <td>6</td>\n",
       "    </tr>\n",
       "    <tr>\n",
       "      <th>10</th>\n",
       "      <td>110008</td>\n",
       "      <td>4</td>\n",
       "      <td>6.635652</td>\n",
       "      <td>46.785591</td>\n",
       "      <td>6.635652</td>\n",
       "      <td>46.785591</td>\n",
       "      <td>Aktiver Sport</td>\n",
       "      <td>120</td>\n",
       "      <td>8.0</td>\n",
       "      <td>57</td>\n",
       "      <td>...</td>\n",
       "      <td>1</td>\n",
       "      <td>3</td>\n",
       "      <td>3</td>\n",
       "      <td>3</td>\n",
       "      <td>1</td>\n",
       "      <td>3</td>\n",
       "      <td>2</td>\n",
       "      <td>5</td>\n",
       "      <td>2</td>\n",
       "      <td>6</td>\n",
       "    </tr>\n",
       "  </tbody>\n",
       "</table>\n",
       "<p>5 rows × 27 columns</p>\n",
       "</div>"
      ],
      "text/plain": [
       "      HHNR  Wegnummer  Start_X-Koordinate  Start_Y-Koordinate  \\\n",
       "3   110001          4            6.559870           46.549366   \n",
       "5   110001          6            6.554009           46.540095   \n",
       "6   110001          7            6.554009           46.540095   \n",
       "7   110008          1            6.635652           46.785591   \n",
       "10  110008          4            6.635652           46.785591   \n",
       "\n",
       "    Ziel_X-Koordinate  Ziel_Y-Koordinate                 Freizeitaktivität  \\\n",
       "3            6.552598          46.568205                 Gastronomiebesuch   \n",
       "5            6.554009          46.540095         Einkaufsbummel / Shopping   \n",
       "6            6.559870          46.549366                               NaN   \n",
       "7            6.635652          46.785591  Nicht-sportliche Aussenaktivität   \n",
       "10           6.635652          46.785591                     Aktiver Sport   \n",
       "\n",
       "    Dauer in Minuten  Wegzweck  Alter  ...  Wetter  Velo-Besitzer  \\\n",
       "3                 10       8.0     57  ...       1              3   \n",
       "5                  5       8.0     57  ...       1              3   \n",
       "6                 10       8.0     57  ...       1              3   \n",
       "7                120       8.0     57  ...       1              3   \n",
       "10               120       8.0     57  ...       1              3   \n",
       "\n",
       "    Mofa-Besitzer  Kleinmotorrad-Besitzer  Motorrad-Besitzer  Auto-Besitzer  \\\n",
       "3               3                       3                  1              1   \n",
       "5               3                       3                  1              1   \n",
       "6               3                       3                  1              1   \n",
       "7               3                       3                  1              3   \n",
       "10              3                       3                  1              3   \n",
       "\n",
       "    Familienstand  Erwerbsstatus  Tägliche Freizeitwege  Mofa  \n",
       "3               4              3                      3     6  \n",
       "5               4              3                      3     6  \n",
       "6               4              3                      3     6  \n",
       "7               2              5                      2     6  \n",
       "10              2              5                      2     6  \n",
       "\n",
       "[5 rows x 27 columns]"
      ]
     },
     "execution_count": 108,
     "metadata": {},
     "output_type": "execute_result"
    }
   ],
   "source": [
    "merged_data_leisure.head()"
   ]
  },
  {
   "cell_type": "markdown",
   "metadata": {},
   "source": [
    "Dataset verfügt noch über 55'188 Einträge"
   ]
  },
  {
   "cell_type": "markdown",
   "metadata": {},
   "source": []
  }
 ],
 "metadata": {
  "kernelspec": {
   "display_name": "DSintro_2021",
   "language": "python",
   "name": "python3"
  },
  "language_info": {
   "codemirror_mode": {
    "name": "ipython",
    "version": 3
   },
   "file_extension": ".py",
   "mimetype": "text/x-python",
   "name": "python",
   "nbconvert_exporter": "python",
   "pygments_lexer": "ipython3",
   "version": "3.8.1"
  },
  "orig_nbformat": 4
 },
 "nbformat": 4,
 "nbformat_minor": 2
}
