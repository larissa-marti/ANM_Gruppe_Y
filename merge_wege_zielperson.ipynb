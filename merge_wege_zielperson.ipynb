{
 "cells": [
  {
   "cell_type": "markdown",
   "metadata": {},
   "source": [
    "# Wege Inland & Zielpersonen"
   ]
  },
  {
   "cell_type": "markdown",
   "metadata": {},
   "source": [
    "## 1. Import"
   ]
  },
  {
   "cell_type": "markdown",
   "metadata": {},
   "source": [
    "### 1.1 Bib"
   ]
  },
  {
   "cell_type": "code",
   "execution_count": 1,
   "metadata": {},
   "outputs": [],
   "source": [
    "#import pandas as pd\n",
    "import numpy as np\n",
    "import pandas as pd\n",
    "\n"
   ]
  },
  {
   "cell_type": "markdown",
   "metadata": {},
   "source": [
    "### 1.2 Data"
   ]
  },
  {
   "cell_type": "code",
   "execution_count": 2,
   "metadata": {},
   "outputs": [],
   "source": [
    "wege = pd.read_csv('Data/wege.csv', sep=';', encoding='latin1')\n",
    "zielpersonen = pd.read_csv('Data/zielpersonen.csv', sep=';', encoding='latin1')\n",
    "\n"
   ]
  },
  {
   "cell_type": "markdown",
   "metadata": {},
   "source": [
    "## 2. Bereinigung Daten"
   ]
  },
  {
   "cell_type": "code",
   "execution_count": null,
   "metadata": {},
   "outputs": [
    {
     "name": "stderr",
     "output_type": "stream",
     "text": [
      "C:\\Users\\annhe\\AppData\\Local\\Temp\\ipykernel_27372\\2424865637.py:4: SettingWithCopyWarning: \n",
      "A value is trying to be set on a copy of a slice from a DataFrame\n",
      "\n",
      "See the caveats in the documentation: https://pandas.pydata.org/pandas-docs/stable/user_guide/indexing.html#returning-a-view-versus-a-copy\n",
      "  weg.rename(columns={'HHNR': 'ID', 'S_X': 'Start_X-Koordinate', 'S_Y': 'Start_Y-Koordinate', 'Z_X': 'Ziel_X-Koordinate', 'Z_Y': 'Ziel_Y-Koordinate', 'f51700_weg': 'Art der Freizeitaktivität', 'dauer2': 'Dauer in Minuten', 'wzweck1': 'Wegzweck'}, inplace=True)\n"
     ]
    },
    {
     "data": {
      "text/html": [
       "<div>\n",
       "<style scoped>\n",
       "    .dataframe tbody tr th:only-of-type {\n",
       "        vertical-align: middle;\n",
       "    }\n",
       "\n",
       "    .dataframe tbody tr th {\n",
       "        vertical-align: top;\n",
       "    }\n",
       "\n",
       "    .dataframe thead th {\n",
       "        text-align: right;\n",
       "    }\n",
       "</style>\n",
       "<table border=\"1\" class=\"dataframe\">\n",
       "  <thead>\n",
       "    <tr style=\"text-align: right;\">\n",
       "      <th></th>\n",
       "      <th>ID</th>\n",
       "      <th>Start_X-Koordinate</th>\n",
       "      <th>Start_Y-Koordinate</th>\n",
       "      <th>Ziel_X-Koordinate</th>\n",
       "      <th>Ziel_Y-Koordinate</th>\n",
       "      <th>Art der Freizeitaktivität</th>\n",
       "      <th>Dauer in Minuten</th>\n",
       "      <th>Wegzweck</th>\n",
       "    </tr>\n",
       "  </thead>\n",
       "  <tbody>\n",
       "    <tr>\n",
       "      <th>0</th>\n",
       "      <td>110001</td>\n",
       "      <td>6.559870</td>\n",
       "      <td>46.549366</td>\n",
       "      <td>6.564175</td>\n",
       "      <td>46.548909</td>\n",
       "      <td>-99</td>\n",
       "      <td>10</td>\n",
       "      <td>5.0</td>\n",
       "    </tr>\n",
       "    <tr>\n",
       "      <th>1</th>\n",
       "      <td>110001</td>\n",
       "      <td>6.564175</td>\n",
       "      <td>46.548909</td>\n",
       "      <td>6.573270</td>\n",
       "      <td>46.553510</td>\n",
       "      <td>-99</td>\n",
       "      <td>5</td>\n",
       "      <td>4.0</td>\n",
       "    </tr>\n",
       "    <tr>\n",
       "      <th>2</th>\n",
       "      <td>110001</td>\n",
       "      <td>6.573270</td>\n",
       "      <td>46.553510</td>\n",
       "      <td>6.559870</td>\n",
       "      <td>46.549366</td>\n",
       "      <td>-99</td>\n",
       "      <td>10</td>\n",
       "      <td>4.0</td>\n",
       "    </tr>\n",
       "    <tr>\n",
       "      <th>3</th>\n",
       "      <td>110001</td>\n",
       "      <td>6.559870</td>\n",
       "      <td>46.549366</td>\n",
       "      <td>6.552598</td>\n",
       "      <td>46.568205</td>\n",
       "      <td>2</td>\n",
       "      <td>10</td>\n",
       "      <td>8.0</td>\n",
       "    </tr>\n",
       "    <tr>\n",
       "      <th>4</th>\n",
       "      <td>110001</td>\n",
       "      <td>6.552598</td>\n",
       "      <td>46.568205</td>\n",
       "      <td>6.554009</td>\n",
       "      <td>46.540095</td>\n",
       "      <td>-99</td>\n",
       "      <td>15</td>\n",
       "      <td>5.0</td>\n",
       "    </tr>\n",
       "  </tbody>\n",
       "</table>\n",
       "</div>"
      ],
      "text/plain": [
       "       ID  Start_X-Koordinate  Start_Y-Koordinate  Ziel_X-Koordinate  \\\n",
       "0  110001            6.559870           46.549366           6.564175   \n",
       "1  110001            6.564175           46.548909           6.573270   \n",
       "2  110001            6.573270           46.553510           6.559870   \n",
       "3  110001            6.559870           46.549366           6.552598   \n",
       "4  110001            6.552598           46.568205           6.554009   \n",
       "\n",
       "   Ziel_Y-Koordinate  Art der Freizeitaktivität  Dauer in Minuten  Wegzweck  \n",
       "0          46.548909                        -99                10       5.0  \n",
       "1          46.553510                        -99                 5       4.0  \n",
       "2          46.549366                        -99                10       4.0  \n",
       "3          46.568205                          2                10       8.0  \n",
       "4          46.540095                        -99                15       5.0  "
      ]
     },
     "execution_count": 12,
     "metadata": {},
     "output_type": "execute_result"
    }
   ],
   "source": [
    "wege.head()\n",
    "#weg=wege[['HHNR', 'S_X', 'S_Y', 'Z_X', 'Z_Y', 'f51700_weg', 'dauer2', 'wzweck1']]\n",
    "#weg.rename(columns={'HHNR': 'ID', 'S_X': 'Start_X-Koordinate', 'S_Y': 'Start_Y-Koordinate', 'Z_X': 'Ziel_X-Koordinate', 'Z_Y': 'Ziel_Y-Koordinate', 'f51700_weg': 'Art der Freizeitaktivität', 'dauer2': 'Dauer in Minuten', 'wzweck1': 'Wegzweck'}, inplace=True)\n",
    "#weg.head()"
   ]
  },
  {
   "cell_type": "code",
   "execution_count": null,
   "metadata": {},
   "outputs": [
    {
     "data": {
      "text/plain": [
       "151188"
      ]
     },
     "execution_count": 9,
     "metadata": {},
     "output_type": "execute_result"
    }
   ],
   "source": [
    "#länge der Tabelle\n",
    "len(wege)"
   ]
  },
  {
   "cell_type": "code",
   "execution_count": null,
   "metadata": {},
   "outputs": [
    {
     "data": {
      "text/html": [
       "<div>\n",
       "<style scoped>\n",
       "    .dataframe tbody tr th:only-of-type {\n",
       "        vertical-align: middle;\n",
       "    }\n",
       "\n",
       "    .dataframe tbody tr th {\n",
       "        vertical-align: top;\n",
       "    }\n",
       "\n",
       "    .dataframe thead th {\n",
       "        text-align: right;\n",
       "    }\n",
       "</style>\n",
       "<table border=\"1\" class=\"dataframe\">\n",
       "  <thead>\n",
       "    <tr style=\"text-align: right;\">\n",
       "      <th></th>\n",
       "      <th>HHNR</th>\n",
       "      <th>alter</th>\n",
       "      <th>gesl</th>\n",
       "      <th>f20400a</th>\n",
       "      <th>f20400b</th>\n",
       "      <th>f20400c</th>\n",
       "      <th>f20400d</th>\n",
       "      <th>f40120</th>\n",
       "      <th>f40921</th>\n",
       "      <th>f81200</th>\n",
       "      <th>...</th>\n",
       "      <th>f41600_01f</th>\n",
       "      <th>f41600_01g</th>\n",
       "      <th>f42100a</th>\n",
       "      <th>f42100b</th>\n",
       "      <th>f42100c</th>\n",
       "      <th>f42100d</th>\n",
       "      <th>f42100e</th>\n",
       "      <th>zivil</th>\n",
       "      <th>ESTATUS</th>\n",
       "      <th>T_FREIZEIT</th>\n",
       "    </tr>\n",
       "  </thead>\n",
       "  <tbody>\n",
       "    <tr>\n",
       "      <th>0</th>\n",
       "      <td>110001</td>\n",
       "      <td>57</td>\n",
       "      <td>1</td>\n",
       "      <td>1</td>\n",
       "      <td>1</td>\n",
       "      <td>-99</td>\n",
       "      <td>-99</td>\n",
       "      <td>4</td>\n",
       "      <td>-99</td>\n",
       "      <td>-99</td>\n",
       "      <td>...</td>\n",
       "      <td>2</td>\n",
       "      <td>2</td>\n",
       "      <td>3</td>\n",
       "      <td>3</td>\n",
       "      <td>3</td>\n",
       "      <td>1</td>\n",
       "      <td>1</td>\n",
       "      <td>4</td>\n",
       "      <td>3</td>\n",
       "      <td>3</td>\n",
       "    </tr>\n",
       "    <tr>\n",
       "      <th>1</th>\n",
       "      <td>110008</td>\n",
       "      <td>57</td>\n",
       "      <td>1</td>\n",
       "      <td>1</td>\n",
       "      <td>1</td>\n",
       "      <td>-99</td>\n",
       "      <td>-99</td>\n",
       "      <td>2</td>\n",
       "      <td>-99</td>\n",
       "      <td>-99</td>\n",
       "      <td>...</td>\n",
       "      <td>2</td>\n",
       "      <td>2</td>\n",
       "      <td>3</td>\n",
       "      <td>3</td>\n",
       "      <td>3</td>\n",
       "      <td>1</td>\n",
       "      <td>3</td>\n",
       "      <td>2</td>\n",
       "      <td>5</td>\n",
       "      <td>2</td>\n",
       "    </tr>\n",
       "    <tr>\n",
       "      <th>2</th>\n",
       "      <td>110011</td>\n",
       "      <td>16</td>\n",
       "      <td>2</td>\n",
       "      <td>-99</td>\n",
       "      <td>-99</td>\n",
       "      <td>-99</td>\n",
       "      <td>-99</td>\n",
       "      <td>2</td>\n",
       "      <td>-99</td>\n",
       "      <td>-99</td>\n",
       "      <td>...</td>\n",
       "      <td>2</td>\n",
       "      <td>2</td>\n",
       "      <td>1</td>\n",
       "      <td>3</td>\n",
       "      <td>3</td>\n",
       "      <td>-99</td>\n",
       "      <td>-99</td>\n",
       "      <td>1</td>\n",
       "      <td>4</td>\n",
       "      <td>1</td>\n",
       "    </tr>\n",
       "    <tr>\n",
       "      <th>3</th>\n",
       "      <td>110024</td>\n",
       "      <td>17</td>\n",
       "      <td>2</td>\n",
       "      <td>-99</td>\n",
       "      <td>-99</td>\n",
       "      <td>2</td>\n",
       "      <td>2</td>\n",
       "      <td>2</td>\n",
       "      <td>-99</td>\n",
       "      <td>-99</td>\n",
       "      <td>...</td>\n",
       "      <td>2</td>\n",
       "      <td>2</td>\n",
       "      <td>1</td>\n",
       "      <td>2</td>\n",
       "      <td>2</td>\n",
       "      <td>-99</td>\n",
       "      <td>-99</td>\n",
       "      <td>1</td>\n",
       "      <td>4</td>\n",
       "      <td>0</td>\n",
       "    </tr>\n",
       "    <tr>\n",
       "      <th>4</th>\n",
       "      <td>110026</td>\n",
       "      <td>53</td>\n",
       "      <td>2</td>\n",
       "      <td>1</td>\n",
       "      <td>1</td>\n",
       "      <td>-99</td>\n",
       "      <td>-99</td>\n",
       "      <td>4</td>\n",
       "      <td>-99</td>\n",
       "      <td>-99</td>\n",
       "      <td>...</td>\n",
       "      <td>2</td>\n",
       "      <td>2</td>\n",
       "      <td>1</td>\n",
       "      <td>3</td>\n",
       "      <td>3</td>\n",
       "      <td>1</td>\n",
       "      <td>2</td>\n",
       "      <td>1</td>\n",
       "      <td>8</td>\n",
       "      <td>3</td>\n",
       "    </tr>\n",
       "  </tbody>\n",
       "</table>\n",
       "<p>5 rows × 27 columns</p>\n",
       "</div>"
      ],
      "text/plain": [
       "     HHNR  alter  gesl  f20400a  f20400b  f20400c  f20400d  f40120  f40921  \\\n",
       "0  110001     57     1        1        1      -99      -99       4     -99   \n",
       "1  110008     57     1        1        1      -99      -99       2     -99   \n",
       "2  110011     16     2      -99      -99      -99      -99       2     -99   \n",
       "3  110024     17     2      -99      -99        2        2       2     -99   \n",
       "4  110026     53     2        1        1      -99      -99       4     -99   \n",
       "\n",
       "   f81200  ...  f41600_01f  f41600_01g  f42100a  f42100b  f42100c  f42100d  \\\n",
       "0     -99  ...           2           2        3        3        3        1   \n",
       "1     -99  ...           2           2        3        3        3        1   \n",
       "2     -99  ...           2           2        1        3        3      -99   \n",
       "3     -99  ...           2           2        1        2        2      -99   \n",
       "4     -99  ...           2           2        1        3        3        1   \n",
       "\n",
       "   f42100e  zivil  ESTATUS  T_FREIZEIT  \n",
       "0        1      4        3           3  \n",
       "1        3      2        5           2  \n",
       "2      -99      1        4           1  \n",
       "3      -99      1        4           0  \n",
       "4        2      1        8           3  \n",
       "\n",
       "[5 rows x 27 columns]"
      ]
     },
     "execution_count": 8,
     "metadata": {},
     "output_type": "execute_result"
    }
   ],
   "source": [
    "zielpersonen.head()\n",
    "#zielp=zielpersonen[['HHNR', 'alter', 'gesl', 'f20400a','f20400b', 'f20400c', 'f20400d', 'f40120', 'f40921', 'f81200', 'f50100a', 'f41600_01a', 'f41600_01b', 'f41600_01c', 'f41600_01d', 'f41600_01d', 'f41600_01e', 'f41600_01f', 'f41600_01g','f42100a', 'f42100b', 'f42100c', 'f42100d', 'f42100e', 'zivil', 'ESTATUS', 'T_FREIZEIT']]\n",
    "#zielp.rename(columns={'HHNR': 'ID', 'alter': 'Alter', 'gesl': 'Geschlecht', 'f20400a': 'Führerausweis PW', 'f20400b': 'Führerausweis Motorräder', 'f20400c': 'Lernfahrausweis PW', 'f20400d': 'Lernfahrausweis Motorräder', 'f40120': 'Ausbildungsniveau', 'f40921': 'Arbeit std./w', 'f81200': 'Arbeitszeitmodelle', 'f50100a': 'Wetter', 'f41600_01a': 'GA-Besitzer', 'f41600_01b': 'Halbtax-Besitzer', 'f41600_01c': 'Verbund-Abo-Besitzer', 'f41600_01d': 'Streckenabo-Besitzer', 'f41600_01e': 'seven25-Besitzer', 'f41600_01f': 'Juniortkarten-Besitzer', 'f41600_01g': 'Andere Abos', 'f42100a': 'Velo-Besitzer', 'f42100b': 'Mofa-Besitzer', 'f42100c': 'Kleinmotorrad-Besitzer', 'f42100d': 'Motorrad-Besitzer', 'f42100e': 'Auto-Besitzer', 'zivil': 'Familienstand', 'ESTATUS': 'Erwerbsstatus', 'T_FREIZEIT': 'Täfliche Freizeitwege'}, inplace=True)\n",
    "#zielp.head()"
   ]
  },
  {
   "cell_type": "code",
   "execution_count": 11,
   "metadata": {},
   "outputs": [
    {
     "data": {
      "text/plain": [
       "55018"
      ]
     },
     "execution_count": 11,
     "metadata": {},
     "output_type": "execute_result"
    }
   ],
   "source": [
    "len(zielpersonen)"
   ]
  },
  {
   "cell_type": "markdown",
   "metadata": {},
   "source": [
    "Die Datensätze beinhalten keine Null-Werte und keine Duplikate"
   ]
  },
  {
   "cell_type": "markdown",
   "metadata": {},
   "source": [
    "## 3. Merge"
   ]
  },
  {
   "cell_type": "code",
   "execution_count": 12,
   "metadata": {},
   "outputs": [],
   "source": [
    "# Right Join der DataFrames auf Basis der Spalte 'HHNR'\n",
    "merged_data = wege.merge(zielpersonen, on='HHNR', how='left')\n"
   ]
  },
  {
   "cell_type": "code",
   "execution_count": 13,
   "metadata": {},
   "outputs": [
    {
     "name": "stdout",
     "output_type": "stream",
     "text": [
      "Anzahl der Wege ohne zugeordnete Zielperson: 0\n",
      "HHNR-Werte ohne zugeordnete Zielperson: []\n"
     ]
    }
   ],
   "source": [
    "# Finde alle Wege, denen keine Zielperson zugeordnet ist\n",
    "no_zielperson = merged_data[merged_data['alter'].isna()]  # 'alter' ist ein Beispiel; ersetze es durch eine Spalte, die nur in 'zielpersonen' existiert\n",
    "\n",
    "# Gib die HHNR-Werte aus, die keine Zielperson zugeordnet haben\n",
    "nicht_zugeordnete_wege = no_zielperson['HHNR'].unique()  # Gibt die eindeutigen HHNR ohne Zuordnung\n",
    "\n",
    "print(\"Anzahl der Wege ohne zugeordnete Zielperson:\", len(nicht_zugeordnete_wege))\n",
    "print(\"HHNR-Werte ohne zugeordnete Zielperson:\", nicht_zugeordnete_wege)"
   ]
  },
  {
   "cell_type": "code",
   "execution_count": 14,
   "metadata": {},
   "outputs": [
    {
     "data": {
      "text/plain": [
       "151188"
      ]
     },
     "execution_count": 14,
     "metadata": {},
     "output_type": "execute_result"
    }
   ],
   "source": [
    "len(merged_data)"
   ]
  },
  {
   "cell_type": "code",
   "execution_count": 15,
   "metadata": {},
   "outputs": [
    {
     "data": {
      "text/html": [
       "<div>\n",
       "<style scoped>\n",
       "    .dataframe tbody tr th:only-of-type {\n",
       "        vertical-align: middle;\n",
       "    }\n",
       "\n",
       "    .dataframe tbody tr th {\n",
       "        vertical-align: top;\n",
       "    }\n",
       "\n",
       "    .dataframe thead th {\n",
       "        text-align: right;\n",
       "    }\n",
       "</style>\n",
       "<table border=\"1\" class=\"dataframe\">\n",
       "  <thead>\n",
       "    <tr style=\"text-align: right;\">\n",
       "      <th></th>\n",
       "      <th>HHNR</th>\n",
       "      <th>WP_x</th>\n",
       "      <th>AUSNR</th>\n",
       "      <th>WEGNR</th>\n",
       "      <th>DMOD_x</th>\n",
       "      <th>f51100</th>\n",
       "      <th>f51400</th>\n",
       "      <th>f51100time</th>\n",
       "      <th>f51400time</th>\n",
       "      <th>pseudo</th>\n",
       "      <th>...</th>\n",
       "      <th>AU_KANTON</th>\n",
       "      <th>AU_BFS</th>\n",
       "      <th>AU_PLZ</th>\n",
       "      <th>AU_AGGLO2012</th>\n",
       "      <th>AU_AGGLO_GROESSE2012</th>\n",
       "      <th>AU_staedt_char_2012</th>\n",
       "      <th>AU_stat_stadt_2012</th>\n",
       "      <th>AU_stadt_land_2012</th>\n",
       "      <th>AU_DEGURBA</th>\n",
       "      <th>AU_OeV_KLASSE</th>\n",
       "    </tr>\n",
       "  </thead>\n",
       "  <tbody>\n",
       "    <tr>\n",
       "      <th>0</th>\n",
       "      <td>110001</td>\n",
       "      <td>1.606924</td>\n",
       "      <td>1</td>\n",
       "      <td>1</td>\n",
       "      <td>2</td>\n",
       "      <td>555</td>\n",
       "      <td>565</td>\n",
       "      <td>9:15:00</td>\n",
       "      <td>9:25:00</td>\n",
       "      <td>1</td>\n",
       "      <td>...</td>\n",
       "      <td>-99</td>\n",
       "      <td>-99</td>\n",
       "      <td>-99</td>\n",
       "      <td>-99</td>\n",
       "      <td>-99</td>\n",
       "      <td>-99</td>\n",
       "      <td>-99</td>\n",
       "      <td>-99</td>\n",
       "      <td>-99</td>\n",
       "      <td>-99</td>\n",
       "    </tr>\n",
       "    <tr>\n",
       "      <th>1</th>\n",
       "      <td>110001</td>\n",
       "      <td>1.606924</td>\n",
       "      <td>1</td>\n",
       "      <td>2</td>\n",
       "      <td>2</td>\n",
       "      <td>575</td>\n",
       "      <td>580</td>\n",
       "      <td>9:35:00</td>\n",
       "      <td>9:40:00</td>\n",
       "      <td>1</td>\n",
       "      <td>...</td>\n",
       "      <td>-99</td>\n",
       "      <td>-99</td>\n",
       "      <td>-99</td>\n",
       "      <td>-99</td>\n",
       "      <td>-99</td>\n",
       "      <td>-99</td>\n",
       "      <td>-99</td>\n",
       "      <td>-99</td>\n",
       "      <td>-99</td>\n",
       "      <td>-99</td>\n",
       "    </tr>\n",
       "    <tr>\n",
       "      <th>2</th>\n",
       "      <td>110001</td>\n",
       "      <td>1.606924</td>\n",
       "      <td>1</td>\n",
       "      <td>3</td>\n",
       "      <td>2</td>\n",
       "      <td>610</td>\n",
       "      <td>620</td>\n",
       "      <td>10:10:00</td>\n",
       "      <td>10:20:00</td>\n",
       "      <td>1</td>\n",
       "      <td>...</td>\n",
       "      <td>-99</td>\n",
       "      <td>-99</td>\n",
       "      <td>-99</td>\n",
       "      <td>-99</td>\n",
       "      <td>-99</td>\n",
       "      <td>-99</td>\n",
       "      <td>-99</td>\n",
       "      <td>-99</td>\n",
       "      <td>-99</td>\n",
       "      <td>-99</td>\n",
       "    </tr>\n",
       "    <tr>\n",
       "      <th>3</th>\n",
       "      <td>110001</td>\n",
       "      <td>1.606924</td>\n",
       "      <td>2</td>\n",
       "      <td>4</td>\n",
       "      <td>2</td>\n",
       "      <td>750</td>\n",
       "      <td>760</td>\n",
       "      <td>12:30:00</td>\n",
       "      <td>12:40:00</td>\n",
       "      <td>1</td>\n",
       "      <td>...</td>\n",
       "      <td>-99</td>\n",
       "      <td>-99</td>\n",
       "      <td>-99</td>\n",
       "      <td>-99</td>\n",
       "      <td>-99</td>\n",
       "      <td>-99</td>\n",
       "      <td>-99</td>\n",
       "      <td>-99</td>\n",
       "      <td>-99</td>\n",
       "      <td>-99</td>\n",
       "    </tr>\n",
       "    <tr>\n",
       "      <th>4</th>\n",
       "      <td>110001</td>\n",
       "      <td>1.606924</td>\n",
       "      <td>2</td>\n",
       "      <td>5</td>\n",
       "      <td>2</td>\n",
       "      <td>810</td>\n",
       "      <td>825</td>\n",
       "      <td>13:30:00</td>\n",
       "      <td>13:45:00</td>\n",
       "      <td>1</td>\n",
       "      <td>...</td>\n",
       "      <td>-99</td>\n",
       "      <td>-99</td>\n",
       "      <td>-99</td>\n",
       "      <td>-99</td>\n",
       "      <td>-99</td>\n",
       "      <td>-99</td>\n",
       "      <td>-99</td>\n",
       "      <td>-99</td>\n",
       "      <td>-99</td>\n",
       "      <td>-99</td>\n",
       "    </tr>\n",
       "  </tbody>\n",
       "</table>\n",
       "<p>5 rows × 238 columns</p>\n",
       "</div>"
      ],
      "text/plain": [
       "     HHNR      WP_x  AUSNR  WEGNR  DMOD_x  f51100  f51400 f51100time  \\\n",
       "0  110001  1.606924      1      1       2     555     565    9:15:00   \n",
       "1  110001  1.606924      1      2       2     575     580    9:35:00   \n",
       "2  110001  1.606924      1      3       2     610     620   10:10:00   \n",
       "3  110001  1.606924      2      4       2     750     760   12:30:00   \n",
       "4  110001  1.606924      2      5       2     810     825   13:30:00   \n",
       "\n",
       "  f51400time  pseudo  ...  AU_KANTON  AU_BFS  AU_PLZ  AU_AGGLO2012  \\\n",
       "0    9:25:00       1  ...        -99     -99     -99           -99   \n",
       "1    9:40:00       1  ...        -99     -99     -99           -99   \n",
       "2   10:20:00       1  ...        -99     -99     -99           -99   \n",
       "3   12:40:00       1  ...        -99     -99     -99           -99   \n",
       "4   13:45:00       1  ...        -99     -99     -99           -99   \n",
       "\n",
       "   AU_AGGLO_GROESSE2012 AU_staedt_char_2012 AU_stat_stadt_2012  \\\n",
       "0                   -99                 -99                -99   \n",
       "1                   -99                 -99                -99   \n",
       "2                   -99                 -99                -99   \n",
       "3                   -99                 -99                -99   \n",
       "4                   -99                 -99                -99   \n",
       "\n",
       "  AU_stadt_land_2012  AU_DEGURBA  AU_OeV_KLASSE  \n",
       "0                -99         -99            -99  \n",
       "1                -99         -99            -99  \n",
       "2                -99         -99            -99  \n",
       "3                -99         -99            -99  \n",
       "4                -99         -99            -99  \n",
       "\n",
       "[5 rows x 238 columns]"
      ]
     },
     "execution_count": 15,
     "metadata": {},
     "output_type": "execute_result"
    }
   ],
   "source": [
    "merged_data.head()"
   ]
  },
  {
   "cell_type": "code",
   "execution_count": 18,
   "metadata": {},
   "outputs": [
    {
     "data": {
      "text/plain": [
       "Index(['HHNR', 'WP_x', 'AUSNR', 'WEGNR', 'DMOD_x', 'f51100', 'f51400',\n",
       "       'f51100time', 'f51400time', 'pseudo',\n",
       "       ...\n",
       "       'AU_KANTON', 'AU_BFS', 'AU_PLZ', 'AU_AGGLO2012', 'AU_AGGLO_GROESSE2012',\n",
       "       'AU_staedt_char_2012', 'AU_stat_stadt_2012', 'AU_stadt_land_2012',\n",
       "       'AU_DEGURBA', 'AU_OeV_KLASSE'],\n",
       "      dtype='object', length=238)"
      ]
     },
     "execution_count": 18,
     "metadata": {},
     "output_type": "execute_result"
    }
   ],
   "source": [
    "merged_data.columns"
   ]
  },
  {
   "cell_type": "code",
   "execution_count": 20,
   "metadata": {},
   "outputs": [
    {
     "data": {
      "text/plain": [
       "array([-99,   2,  16,   7,   3,   1,   4,  10,  15,   9,  90,  13,  12,\n",
       "        14,   5,   6,  17,   8,  11,  22, -98, -97])"
      ]
     },
     "execution_count": 20,
     "metadata": {},
     "output_type": "execute_result"
    }
   ],
   "source": [
    "#gib mit unique WErte aus der Spalte f51700w aus\n",
    "merged_data['f51700_weg'].unique()"
   ]
  },
  {
   "cell_type": "markdown",
   "metadata": {},
   "source": [
    "Notizen\n",
    "\n",
    "wzweck1 Filter 8 Für Freizeitwege \n",
    "\n",
    "f51700w ist welche Freizeitaktivität wurde gemacht\n",
    "Aktivitäten sind katagorisiert / Alle nichtaussagen zusammennehmen \n",
    "Kategorien\n",
    "\n",
    "\n",
    "\n",
    "\n",
    "\n",
    "\n",
    "\n",
    "\n",
    "\n"
   ]
  }
 ],
 "metadata": {
  "kernelspec": {
   "display_name": "DSintro_2021",
   "language": "python",
   "name": "python3"
  },
  "language_info": {
   "codemirror_mode": {
    "name": "ipython",
    "version": 3
   },
   "file_extension": ".py",
   "mimetype": "text/x-python",
   "name": "python",
   "nbconvert_exporter": "python",
   "pygments_lexer": "ipython3",
   "version": "3.8.1"
  },
  "orig_nbformat": 4
 },
 "nbformat": 4,
 "nbformat_minor": 2
}
