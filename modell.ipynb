{
 "cells": [
  {
   "cell_type": "code",
   "execution_count": 8,
   "metadata": {},
   "outputs": [],
   "source": [
    "import pandas as pd\n",
    "import statsmodels.api as sm"
   ]
  },
  {
   "cell_type": "code",
   "execution_count": 5,
   "metadata": {},
   "outputs": [],
   "source": [
    "wege_gemeinden_geo = pd.read_csv(\n",
    "    \"generated_data/wege_gemeinden_geo.csv\", sep=\";\", encoding=\"utf-8\"\n",
    ")"
   ]
  },
  {
   "cell_type": "code",
   "execution_count": 7,
   "metadata": {},
   "outputs": [
    {
     "data": {
      "text/plain": [
       "Index(['HHNR', 'Wegnummer', 'Distanz_km', 'Emissionen', 'Verkehrsmittel',\n",
       "       'Etappennummer', 'Verkehrsmittel_first', 'Zweck', 'Distanz_km_first',\n",
       "       'Start_X', 'Start_Y', 'Ziel_X', 'Ziel_Y', 'Freizeitaktivität_x',\n",
       "       'gwp_pro_Kilometer_[g]', 'Emissionen_first', 'WEGNR',\n",
       "       'Start_X-Koordinate_x', 'Start_Y-Koordinate_x', 'Ziel_X-Koordinate_x',\n",
       "       'Ziel_Y-Koordinate_x', 'Freizeitaktivität', 'Dauer in Minuten',\n",
       "       'Wegzweck', 'Alter', 'Geschlecht', 'Führerausweis PW',\n",
       "       'Führerausweis Motorräder', 'Lernfahrausweis PW',\n",
       "       'Lernfahrausweis Motorräder', 'Ausbildungsniveau', 'Beschäftigungsgrad',\n",
       "       'Wetter', 'Velo-Besitzer', 'Mofa-Besitzer', 'Kleinmotorrad-Besitzer',\n",
       "       'Motorrad-Besitzer', 'Auto-Besitzer', 'Familienstand', 'Erwerbsstatus',\n",
       "       'Tägliche Freizeitwege', 'Wohnort X-Koordinate', 'Wohnort Y-Koordinate',\n",
       "       'W_ORT', 'Wohnort: PLZ', 'Wohnort: Kanton', 'Führerausweis_PW',\n",
       "       'Führerausweis_Motorrad', 'Start_X-Koordinate_y',\n",
       "       'Start_Y-Koordinate_y', 'Ziel_X-Koordinate_y', 'Ziel_Y-Koordinate_y',\n",
       "       'Gemeindename', 'geometry', 'Typologie'],\n",
       "      dtype='object')"
      ]
     },
     "execution_count": 7,
     "metadata": {},
     "output_type": "execute_result"
    }
   ],
   "source": [
    "wege_gemeinden_geo.columns"
   ]
  },
  {
   "cell_type": "code",
   "execution_count": 9,
   "metadata": {},
   "outputs": [],
   "source": [
    "# Auswahl der relevanten Spalten\n",
    "features = [\"Alter\", \"Typologie\", \"Ausbildungsniveau\"]\n",
    "target = \"Emissionen\""
   ]
  },
  {
   "cell_type": "code",
   "execution_count": 10,
   "metadata": {},
   "outputs": [],
   "source": [
    "dummies = pd.get_dummies(\n",
    "    wege_gemeinden_geo[features],\n",
    "    drop_first=False,  # Alle Kategorien beibehalten\n",
    ")"
   ]
  },
  {
   "cell_type": "code",
   "execution_count": null,
   "metadata": {},
   "outputs": [],
   "source": [
    "# Festlegen der Referenzkategorien\n",
    "dummies = dummies.drop(\n",
    "    [\"Alter_81-100\", \"Typologie_Grosszentren\", \"Ausbildungsniveau_Keine Schulbildung\"],\n",
    "    axis=1,\n",
    ")"
   ]
  },
  {
   "cell_type": "code",
   "execution_count": 13,
   "metadata": {},
   "outputs": [
    {
     "name": "stdout",
     "output_type": "stream",
     "text": [
      "                            OLS Regression Results                            \n",
      "==============================================================================\n",
      "Dep. Variable:             Emissionen   R-squared:                       0.002\n",
      "Model:                            OLS   Adj. R-squared:                  0.001\n",
      "Method:                 Least Squares   F-statistic:                     5.090\n",
      "Date:                Tue, 31 Dec 2024   Prob (F-statistic):           6.17e-13\n",
      "Time:                        17:29:28   Log-Likelihood:            -6.0259e+05\n",
      "No. Observations:               55751   AIC:                         1.205e+06\n",
      "Df Residuals:                   55730   BIC:                         1.205e+06\n",
      "Df Model:                          20                                         \n",
      "Covariance Type:            nonrobust                                         \n",
      "===============================================================================================================================================\n",
      "                                                                                  coef    std err          t      P>|t|      [0.025      0.975]\n",
      "-----------------------------------------------------------------------------------------------------------------------------------------------\n",
      "const                                                                        -126.0071    488.480     -0.258      0.796   -1083.430     831.416\n",
      "Alter_0-10                                                                    577.9396    464.911      1.243      0.214    -333.288    1489.168\n",
      "Alter_11-18                                                                   248.8509    377.026      0.660      0.509    -490.122     987.824\n",
      "Alter_19-25                                                                  1089.4698    304.008      3.584      0.000     493.612    1685.327\n",
      "Alter_26-40                                                                   952.6662    276.092      3.451      0.001     411.524    1493.808\n",
      "Alter_41-60                                                                  1069.8661    257.553      4.154      0.000     565.060    1574.672\n",
      "Alter_61-80                                                                   433.8114    254.741      1.703      0.089     -65.483     933.106\n",
      "Typologie_Agrargemeinden                                                      871.2562    251.434      3.465      0.001     378.445    1364.068\n",
      "Typologie_Gürtel der Grosszentren                                             814.0248    193.664      4.203      0.000     434.442    1193.608\n",
      "Typologie_Gürtel der Mittelzentren                                            600.3416    180.928      3.318      0.001     245.721     954.963\n",
      "Typologie_Kleinzentren                                                        616.5508    373.531      1.651      0.099    -115.573    1348.675\n",
      "Typologie_Mittelzentren                                                       570.1957    183.229      3.112      0.002     211.065     929.326\n",
      "Typologie_Nebenzentren der Grosszentren                                       600.5833    226.801      2.648      0.008     156.052    1045.115\n",
      "Typologie_Periurbane ländliche Gemeinden                                      768.0442    206.303      3.723      0.000     363.689    1172.399\n",
      "Typologie_Touristische Gemeinden                                              455.8479    428.726      1.063      0.288    -384.458    1296.153\n",
      "Ausbildungsniveau_Berufliche Grundbildung / Allgemeinbildung ohne Maturität   432.9002    429.462      1.008      0.313    -408.849    1274.649\n",
      "Ausbildungsniveau_Doktorat / Habilitation                                    2657.3513    561.657      4.731      0.000    1556.501    3758.202\n",
      "Ausbildungsniveau_Höhere Fachschule / Universität                             577.1359    434.561      1.328      0.184    -274.607    1428.879\n",
      "Ausbildungsniveau_Keine Angabe                                                710.3741    458.223      1.550      0.121    -187.746    1608.494\n",
      "Ausbildungsniveau_Maturität / Höhere Berufsbildung                            504.3187    443.067      1.138      0.255    -364.096    1372.733\n",
      "Ausbildungsniveau_Obligatorische Schule                                       535.3726    432.033      1.239      0.215    -311.415    1382.160\n",
      "==============================================================================\n",
      "Omnibus:                   204868.373   Durbin-Watson:                   1.919\n",
      "Prob(Omnibus):                  0.000   Jarque-Bera (JB):     190303311773.101\n",
      "Skew:                          78.560   Prob(JB):                         0.00\n",
      "Kurtosis:                    9052.759   Cond. No.                         27.5\n",
      "==============================================================================\n",
      "\n",
      "Notes:\n",
      "[1] Standard Errors assume that the covariance matrix of the errors is correctly specified.\n"
     ]
    }
   ],
   "source": [
    "# Kombinieren der Dummy-Variablen mit der Zielvariable\n",
    "data = pd.concat([dummies, wege_gemeinden_geo[target]], axis=1)\n",
    "\n",
    "# Features (X) und Zielvariable (y) definieren\n",
    "X = data.drop(columns=target)\n",
    "y = data[target]\n",
    "\n",
    "# Hinzufügen eines Interzepts zur linearen Regression\n",
    "X = sm.add_constant(X)\n",
    "\n",
    "# Erstellen des Modells\n",
    "model = sm.OLS(y, X)\n",
    "\n",
    "# Fitting des Modells\n",
    "results = model.fit()\n",
    "\n",
    "# Zusammenfassung des Modells anzeigen\n",
    "print(results.summary())"
   ]
  },
  {
   "cell_type": "code",
   "execution_count": null,
   "metadata": {},
   "outputs": [],
   "source": []
  }
 ],
 "metadata": {
  "kernelspec": {
   "display_name": "base",
   "language": "python",
   "name": "python3"
  },
  "language_info": {
   "codemirror_mode": {
    "name": "ipython",
    "version": 3
   },
   "file_extension": ".py",
   "mimetype": "text/x-python",
   "name": "python",
   "nbconvert_exporter": "python",
   "pygments_lexer": "ipython3",
   "version": "3.8.8"
  }
 },
 "nbformat": 4,
 "nbformat_minor": 2
}
